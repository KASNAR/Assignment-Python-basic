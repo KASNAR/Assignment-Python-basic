{
  "nbformat": 4,
  "nbformat_minor": 0,
  "metadata": {
    "colab": {
      "provenance": []
    },
    "kernelspec": {
      "name": "python3",
      "display_name": "Python 3"
    },
    "language_info": {
      "name": "python"
    }
  },
  "cells": [
    {
      "cell_type": "markdown",
      "source": [
        "                                                                                                                                                            Name Kartik Narayan\n",
        "                                                                                                                                                           Email kartiknarayan90#gmail.com                                                                           Assignment Nmae Python Basic\n",
        "Github link\n"
      ],
      "metadata": {
        "id": "MZzBjOzI_4Vu"
      }
    },
    {
      "cell_type": "code",
      "execution_count": 1,
      "metadata": {
        "id": "G1fAof-cnBl4",
        "colab": {
          "base_uri": "https://localhost:8080/"
        },
        "outputId": "d3782823-5319-490e-8446-f04aed4f29f5"
      },
      "outputs": [
        {
          "output_type": "stream",
          "name": "stdout",
          "text": [
            "Hello, World!\n"
          ]
        }
      ],
      "source": [
        "#1. Write a Python program to print \"Hello, World!\n",
        "\n",
        "a= \"Hello, World!\"\n",
        "print(a)"
      ]
    },
    {
      "cell_type": "code",
      "source": [
        "#2. Write a Python program that displays your name and age.\n",
        "\n",
        "name = \"Kartik Narayan\"\n",
        "age = 24\n",
        "\n",
        "print(\"My name is\", name, \"and my age is\",age)"
      ],
      "metadata": {
        "colab": {
          "base_uri": "https://localhost:8080/"
        },
        "id": "Yimy8JRhdUp7",
        "outputId": "abb51bea-a4c1-475d-c9cd-ef2bbc9da69d"
      },
      "execution_count": 2,
      "outputs": [
        {
          "output_type": "stream",
          "name": "stdout",
          "text": [
            "My name is Kartik Narayan and my age is 24\n"
          ]
        }
      ]
    },
    {
      "cell_type": "code",
      "source": [
        "#3. Write code to print all the pre-defined keywords in Python using the keyword library.\n",
        "import keyword\n",
        "keyword.kwlist"
      ],
      "metadata": {
        "colab": {
          "base_uri": "https://localhost:8080/"
        },
        "id": "-reAnKH5dUs-",
        "outputId": "4325677f-8db3-4f8b-fe58-37b428dad232"
      },
      "execution_count": 3,
      "outputs": [
        {
          "output_type": "execute_result",
          "data": {
            "text/plain": [
              "['False',\n",
              " 'None',\n",
              " 'True',\n",
              " 'and',\n",
              " 'as',\n",
              " 'assert',\n",
              " 'async',\n",
              " 'await',\n",
              " 'break',\n",
              " 'class',\n",
              " 'continue',\n",
              " 'def',\n",
              " 'del',\n",
              " 'elif',\n",
              " 'else',\n",
              " 'except',\n",
              " 'finally',\n",
              " 'for',\n",
              " 'from',\n",
              " 'global',\n",
              " 'if',\n",
              " 'import',\n",
              " 'in',\n",
              " 'is',\n",
              " 'lambda',\n",
              " 'nonlocal',\n",
              " 'not',\n",
              " 'or',\n",
              " 'pass',\n",
              " 'raise',\n",
              " 'return',\n",
              " 'try',\n",
              " 'while',\n",
              " 'with',\n",
              " 'yield']"
            ]
          },
          "metadata": {},
          "execution_count": 3
        }
      ]
    },
    {
      "cell_type": "code",
      "source": [
        "#4. Write a program that checks if a given word is a Python keyword.\n",
        "import keyword\n",
        "keyword.iskeyword(\"True\")"
      ],
      "metadata": {
        "colab": {
          "base_uri": "https://localhost:8080/"
        },
        "id": "ZTKrxOx0dUv2",
        "outputId": "afe4d540-01c1-4cb1-eaee-df10b89ed4fc"
      },
      "execution_count": 4,
      "outputs": [
        {
          "output_type": "execute_result",
          "data": {
            "text/plain": [
              "True"
            ]
          },
          "metadata": {},
          "execution_count": 4
        }
      ]
    },
    {
      "cell_type": "code",
      "source": [
        "#5. Create a list and tuple in Python, and demonstrate how attempting to change an element works differently for each.\n",
        "\n",
        "list_new = [\"Kartik\",\"Ram\",10,34,55.7,10+2j, True, False]   #list\n",
        "\n",
        "#we can change elements in list as it is mutable.\n",
        "\n",
        "list_new[0]   #here accessing index[0] as Aaryan\n",
        "\n",
        "\n",
        "list_new[0]=\"Ayush\"\n",
        "\n",
        "list_new  #Here Kartik is repleced by Ayush\n",
        "\n",
        "\n",
        "#Tuple\n",
        "\n",
        "\n",
        "tuple_new = (\"Amit\",\"Kartik\",\"Ram\")\n",
        "\n",
        "#we cannot change the elements in tuple as it is immutable\n",
        "\n",
        "type(tuple_new)\n",
        "\n",
        "tuple_new[0]\n",
        "tuple_new[0]= \"Ajay\" # will throw error as it is immutable so we can not change value in tuple."
      ],
      "metadata": {
        "colab": {
          "base_uri": "https://localhost:8080/",
          "height": 176
        },
        "id": "gRDP101rdUzA",
        "outputId": "990b2c7b-134b-49d1-d604-e2fe8fbe7787"
      },
      "execution_count": 5,
      "outputs": [
        {
          "output_type": "error",
          "ename": "TypeError",
          "evalue": "'tuple' object does not support item assignment",
          "traceback": [
            "\u001b[0;31m---------------------------------------------------------------------------\u001b[0m",
            "\u001b[0;31mTypeError\u001b[0m                                 Traceback (most recent call last)",
            "\u001b[0;32m/tmp/ipython-input-5-860907850.py\u001b[0m in \u001b[0;36m<cell line: 0>\u001b[0;34m()\u001b[0m\n\u001b[1;32m     23\u001b[0m \u001b[0;34m\u001b[0m\u001b[0m\n\u001b[1;32m     24\u001b[0m \u001b[0mtuple_new\u001b[0m\u001b[0;34m[\u001b[0m\u001b[0;36m0\u001b[0m\u001b[0;34m]\u001b[0m\u001b[0;34m\u001b[0m\u001b[0;34m\u001b[0m\u001b[0m\n\u001b[0;32m---> 25\u001b[0;31m \u001b[0mtuple_new\u001b[0m\u001b[0;34m[\u001b[0m\u001b[0;36m0\u001b[0m\u001b[0;34m]\u001b[0m\u001b[0;34m=\u001b[0m \u001b[0;34m\"Ajay\"\u001b[0m \u001b[0;31m# will throw error as it is immutable so we can not change value in tuple.\u001b[0m\u001b[0;34m\u001b[0m\u001b[0;34m\u001b[0m\u001b[0m\n\u001b[0m",
            "\u001b[0;31mTypeError\u001b[0m: 'tuple' object does not support item assignment"
          ]
        }
      ]
    },
    {
      "cell_type": "code",
      "source": [
        "#6. Write a function to demonstrate the behavior of mutable and immutable arguments.\n",
        "\n",
        "#Mutable: we can change the value after creating\n",
        "\n",
        "list_cont= [1,2,8, 4.8,\"Kartik\",3+5j, True]\n",
        "\n",
        "#if we want to check the container.\n",
        "\n",
        "list_cont[4] #It will give output as \"Kartik\" as \"Kartik\" is placed at 4(0,1,2,3,4)\n",
        "\n",
        "#if we want to check mutablity we can check by replacing. I will check by replacing \"Aaryan\" to float value.\n",
        "\n",
        "list_cont[4]=23.58\n",
        "\n",
        "print(list_cont) #Here we can see \"Kartik\" is replaced with 23.58.\n",
        "\n",
        "\n",
        "#Immutable: we can not change the value after creating\n",
        "\n",
        "b=\"Kartik\"\n",
        "b[0] #Here we are checking with 0, to get result \"A\"\n",
        "\n",
        "#Now if we will try to change the value it will throw the error as it is immutable.\n",
        "\n",
        "#b[0]=\"T\" #It will throw error so keeping under hashtag\n"
      ],
      "metadata": {
        "colab": {
          "base_uri": "https://localhost:8080/",
          "height": 53
        },
        "id": "o9LB-k5_dU14",
        "outputId": "297eb071-ad27-4f96-847a-0feddb6b148b"
      },
      "execution_count": 6,
      "outputs": [
        {
          "output_type": "stream",
          "name": "stdout",
          "text": [
            "[1, 2, 8, 4.8, 23.58, (3+5j), True]\n"
          ]
        },
        {
          "output_type": "execute_result",
          "data": {
            "text/plain": [
              "'K'"
            ],
            "application/vnd.google.colaboratory.intrinsic+json": {
              "type": "string"
            }
          },
          "metadata": {},
          "execution_count": 6
        }
      ]
    },
    {
      "cell_type": "code",
      "source": [
        "\n",
        "#7. Write a program that performs basic arithmetic operations on two user-input numbers.\n",
        "\n",
        "a= int(input(\"Enter 1st number:\"))\n",
        "b= int(input(\"Enter 2nd number:\"))\n",
        "\n",
        "sum=a+b\n",
        "sub=a-b\n",
        "mul=a*b\n",
        "div=a/b\n",
        "floor_div=a//b\n",
        "mod=a%b\n",
        "\n",
        "print(f\"The sum of 1st and 2nd number is:{sum}\\nThe difference between in 1st and 2nd number is:{sub}\\nThe multiplication of 1st and 2nd number is:{mul}\")\n",
        "print(f\"The division of 1st and 2nd number is:{div}\\nThe floor division 1st and 2nd number is:{floor_div}\\nThe modulus of 1st and 2nd number is:{mod}\")\n"
      ],
      "metadata": {
        "colab": {
          "base_uri": "https://localhost:8080/"
        },
        "id": "qD9LjsWPdU4t",
        "outputId": "29798461-508b-43a7-de9d-27c1f9eb3ba9"
      },
      "execution_count": 7,
      "outputs": [
        {
          "output_type": "stream",
          "name": "stdout",
          "text": [
            "Enter 1st number:12\n",
            "Enter 2nd number:12\n",
            "The sum of 1st and 2nd number is:24\n",
            "The difference between in 1st and 2nd number is:0\n",
            "The multiplication of 1st and 2nd number is:144\n",
            "The division of 1st and 2nd number is:1.0\n",
            "The floor division 1st and 2nd number is:1\n",
            "The modulus of 1st and 2nd number is:0\n"
          ]
        }
      ]
    },
    {
      "cell_type": "code",
      "source": [
        "#8. Write a program to demonstrate the use of logical operators.\n",
        "\n",
        "#There are three types of logical operator.\n",
        "#NOT-It converts True into False and False into True.\n",
        "\n",
        "not 5  #it will give false as it is opposite of True. like 5 is true as it is non zero. but because of logical operator not it will give false.\n",
        "not 0  #it will give True as it opposite of False. like 0 is false as it is zero. but because of logical operator not it will give True\n",
        "\n",
        "\n",
        "night = False #(Means it is not night)\n",
        "\n",
        "# not will reverses the condition\n",
        "if not night:\n",
        "    print(\"It is night!\")\n",
        "\n",
        "\n",
        "#AND- True if both are True rest will be False.\n",
        "\n",
        "x = 12\n",
        "y = 6\n",
        "\n",
        "# Both conditions must be True\n",
        "\n",
        "if x > 5 and y < 10:\n",
        "    print(\"Both conditions are True\")\n",
        "\n",
        "#OR- True if at least one is True rest will be False.\n",
        "\n",
        "x = 2\n",
        "y = 13\n",
        "\n",
        "# At least one condition must be True\n",
        "if x < 5 or y < 10:\n",
        "    print(\"At least one condition is True \")\n"
      ],
      "metadata": {
        "colab": {
          "base_uri": "https://localhost:8080/"
        },
        "id": "Lextjxn1dU7o",
        "outputId": "d6b2ab31-8fed-4f3a-b02e-673690f9e2a9"
      },
      "execution_count": 8,
      "outputs": [
        {
          "output_type": "stream",
          "name": "stdout",
          "text": [
            "It is night!\n",
            "Both conditions are True\n",
            "At least one condition is True \n"
          ]
        }
      ]
    },
    {
      "cell_type": "code",
      "source": [
        "#9. Write a Python program to convert user input from string to integer, float, and boolean types.\n",
        "\n",
        "\n",
        "#if we will take input from user it will store as string and string can not be converted as integer or float and throw error, but we can get bool.\n",
        "\n",
        "a=(input(\"Enter your name:\")) #we will take string from user as name\n",
        "print(bool(a))\n",
        "\n"
      ],
      "metadata": {
        "colab": {
          "base_uri": "https://localhost:8080/"
        },
        "id": "NGFwXsfifCHb",
        "outputId": "d2e93464-6adf-4c8a-998c-6916ebbbcbc6"
      },
      "execution_count": 9,
      "outputs": [
        {
          "output_type": "stream",
          "name": "stdout",
          "text": [
            "Enter your name:kartik\n",
            "True\n"
          ]
        }
      ]
    },
    {
      "cell_type": "code",
      "source": [
        "\n",
        "#10. Write code to demonstrate type casting with list elements.\n",
        "\n",
        "# First, Here will convert each string to an integer\n",
        "\n",
        "str_numbers = ['10', '20', '30', '40']\n",
        "\n",
        "int_numbers = [int(num) for num in str_numbers]\n",
        "\n",
        "# Print results\n",
        "print(\"Original String:\", str_numbers)\n",
        "print(\"Converted Integer:\", int_numbers)\n",
        "\n",
        "# Now Here will convert float to interger\n",
        "\n",
        "float_list = [1.9, 2.5, 3.7]\n",
        "int_list = [int(x) for x in float_list]\n",
        "\n",
        "print(\"Original Floats:\", float_list)\n",
        "print(\"Converted Integers:\", int_list)\n",
        "\n",
        "\n",
        "\n",
        "\n",
        "\n",
        "\n",
        "\n",
        "\n",
        "\n"
      ],
      "metadata": {
        "colab": {
          "base_uri": "https://localhost:8080/"
        },
        "id": "ITxDRwTOfCLX",
        "outputId": "fd5e809c-6c91-4709-a176-07a76f92a5e4"
      },
      "execution_count": 10,
      "outputs": [
        {
          "output_type": "stream",
          "name": "stdout",
          "text": [
            "Original String: ['10', '20', '30', '40']\n",
            "Converted Integer: [10, 20, 30, 40]\n",
            "Original Floats: [1.9, 2.5, 3.7]\n",
            "Converted Integers: [1, 2, 3]\n"
          ]
        }
      ]
    },
    {
      "cell_type": "code",
      "source": [
        "\n",
        " #11. Write a program that checks if a number is positive, negative, or zero.\n",
        "\n",
        " a=int(input(\"Enter any number:\"))\n",
        "\n",
        "if a > 0:\n",
        "  print(\"This number is positive\")\n",
        "elif a < 0:\n",
        "  print(\"This number is negative\")\n",
        "else:\n",
        "  print(\"This number is zero\")"
      ],
      "metadata": {
        "colab": {
          "base_uri": "https://localhost:8080/"
        },
        "id": "5v_ucMHQfCOg",
        "outputId": "e3aedda6-ab7f-4ea3-8d2c-55ce852cc72c"
      },
      "execution_count": 13,
      "outputs": [
        {
          "output_type": "stream",
          "name": "stdout",
          "text": [
            "Enter any number:25\n",
            "This number is positive\n"
          ]
        }
      ]
    },
    {
      "cell_type": "code",
      "source": [
        "for i in range(1, 11):\n",
        "    print(i)"
      ],
      "metadata": {
        "colab": {
          "base_uri": "https://localhost:8080/"
        },
        "id": "JNEg7CmkfCRI",
        "outputId": "ad66e3d1-2511-43d3-ecfd-fdc4238be2cc"
      },
      "execution_count": null,
      "outputs": [
        {
          "output_type": "stream",
          "name": "stdout",
          "text": [
            "1\n",
            "2\n",
            "3\n",
            "4\n",
            "5\n",
            "6\n",
            "7\n",
            "8\n",
            "9\n",
            "10\n"
          ]
        }
      ]
    },
    {
      "cell_type": "code",
      "source": [
        "\n",
        "#12. Write a for loop to print numbers from 1 to 10.\n",
        "\n",
        "for number in range(1, 11):\n",
        "    print(number)"
      ],
      "metadata": {
        "colab": {
          "base_uri": "https://localhost:8080/"
        },
        "id": "wWwdqXClfCUr",
        "outputId": "6069c720-d856-4bb7-c42e-fe3d3a45cf11"
      },
      "execution_count": 12,
      "outputs": [
        {
          "output_type": "stream",
          "name": "stdout",
          "text": [
            "1\n",
            "2\n",
            "3\n",
            "4\n",
            "5\n",
            "6\n",
            "7\n",
            "8\n",
            "9\n",
            "10\n"
          ]
        }
      ]
    },
    {
      "cell_type": "code",
      "source": [
        "\n",
        "#13. Write a Python program to find the sum of all even numbers between 1 and 50.\n",
        "\n",
        "sum=0\n",
        "\n",
        "for number in range(1, 51):\n",
        "    if number % 2 == 0:\n",
        "        #print(number)\n",
        "        sum += number\n",
        "print(f\"The sum of all even numbers from 1 to 50 is: {sum}\")"
      ],
      "metadata": {
        "colab": {
          "base_uri": "https://localhost:8080/"
        },
        "id": "H9kg6DDKfCXE",
        "outputId": "e8b0a5b7-6ad7-473e-d655-a32961809bb2"
      },
      "execution_count": 14,
      "outputs": [
        {
          "output_type": "stream",
          "name": "stdout",
          "text": [
            "The sum of all even numbers from 1 to 50 is: 650\n"
          ]
        }
      ]
    },
    {
      "cell_type": "code",
      "source": [
        "\n",
        "#14. Write a program to reverse a string using a while loop.\n",
        "\n",
        "string = input(\"Enter a string: \")\n",
        "reversed_string = \"\"\n",
        "index = len(string) - 1\n",
        "\n",
        "while index >= 0:\n",
        "    reversed_string += string[index]\n",
        "    index -= 1\n",
        "\n",
        "print(\"Reversed string:\", reversed_string)"
      ],
      "metadata": {
        "colab": {
          "base_uri": "https://localhost:8080/"
        },
        "id": "1zEaoSnhfCaH",
        "outputId": "3fea0ce1-2717-4963-dd0d-ee32f43f0060"
      },
      "execution_count": 15,
      "outputs": [
        {
          "output_type": "stream",
          "name": "stdout",
          "text": [
            "Enter a string: 12\n",
            "Reversed string: 21\n"
          ]
        }
      ]
    },
    {
      "cell_type": "markdown",
      "source": [
        "1 What is Python, and why is it popular\n",
        "\n",
        " Python is high level interpreted langugage known for simplicity readibility and varsatility.\n",
        "\n",
        "popular-\n",
        "\n",
        "Easy to learn and read\n",
        "huge standard library\n",
        "massive ecosystem\n",
        "\n",
        "2  What is an interpreter in Python  \n",
        "\n",
        "A interpreter in python is a program that reads and execute python code line by line.Convertin it into machine readable instrutions at runtime.\n",
        "\n",
        "3 What are pre-defined keywords in Python\n",
        "\n",
        " Pre difined keywords in python are reserved words that has special meaning in the language. you cant use them as variable name, function namr or identifier.\n",
        "\n",
        "4 Can keywords be used as variable names\n",
        "\n",
        " No keywords canot be used as variable name in python because theese are reserved words that are the part of core python language.\n",
        "\n",
        "5  What is mutability in Python\n",
        "\n",
        "Mutability in python refers to whether or not an object cab be changed after its created.\n",
        "\n",
        "6 Why are lists mutable, but tuples are immutable\n",
        "\n",
        "Lists are designed to be flexible and dynamic\n",
        "\n",
        "add remove or changed items\n",
        "resize the list\n",
        "\n",
        "7  What is the difference between “==” and “is” operators in Python\n",
        "\n",
        "operator      meaning        check                           example\n",
        "  ==           Equality   Same value                         True\n",
        "  is           Identity   same memory id                     False\n",
        "\n",
        "8  What are logical operators in Python\n",
        "\n",
        "Logical operator are used to combine or compare boolean expression true or false in python.\n",
        "\n",
        "and  - logical And\n",
        "or    - Logical OR\n",
        "not  - Logical NOT\n",
        "\n",
        "9 What is type casting in Python\n",
        "\n",
        " Type casting in python means converting one data type into another eg turning a string into integer or float into string\n",
        "\n",
        "10   What is the difference between implicit and explicit type casting\n",
        "\n",
        "            Implicit                            Explicit\n",
        "     Type coersion                                Type conversion\n",
        "     Python does it automically                You do it manually\n",
        "     safe and predictable                      can cause error\n",
        "\n",
        "11  What is the purpose of conditional statements in Python\n",
        "\n",
        "Conditional statements in python is used to make decision based on whether a condition is True Or False\n",
        "\n",
        "12  How does the elif statement work\n",
        "\n",
        "  It is used to check multiple conditions one after another.\n",
        "To test additional  condition if the if  first condition is false\n",
        "Help avoid writing multiple nested if....else blocks\n",
        "\n",
        "13 What is the difference between for and while loops\n",
        "\n",
        " Both for and while loop are used to repeat a block of code but they are used in different scenerio\n",
        "\n",
        "For Loop -  Used when you know the number of iteratios\n",
        "\n",
        "While Loop - used when you dont know how many times\n",
        "\n",
        "14 Describe a scenario where a while loop is more suitable than a for loop\n",
        "\n",
        " while loop is better when you dont know in advance how many times the loop need to run ypu just know the condition under which it continue.\n",
        "\n",
        "\n"
      ],
      "metadata": {
        "id": "ofI2yRlHnPFU"
      }
    },
    {
      "cell_type": "markdown",
      "source": [],
      "metadata": {
        "id": "IpEO7lDF_1qe"
      }
    }
  ]
}